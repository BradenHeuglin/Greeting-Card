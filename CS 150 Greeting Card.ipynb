{
 "cells": [
  {
   "cell_type": "code",
   "execution_count": 1,
   "id": "7c40fc09",
   "metadata": {},
   "outputs": [
    {
     "name": "stdout",
     "output_type": "stream",
     "text": [
      "Collecting pygame\n",
      "  Downloading pygame-2.1.2-cp39-cp39-win_amd64.whl (8.4 MB)\n",
      "Installing collected packages: pygame\n",
      "Successfully installed pygame-2.1.2\n"
     ]
    }
   ],
   "source": [
    "!pip install pygame"
   ]
  },
  {
   "cell_type": "code",
   "execution_count": 18,
   "id": "e0a0a8bc",
   "metadata": {},
   "outputs": [],
   "source": [
    "import pygame\n",
    "pygame.init()\n",
    "\n",
    "surface=pygame.display.set_mode((500,400))\n",
    "\n",
    "pygame.display.set_caption(\"Greeting Card\")\n",
    "\n",
    "WHITE=(255,255,255)\n",
    "BLACK=(0,0,0)\n",
    "RED=(255,0,0)\n",
    "GREEN=(0,255,0)\n",
    "BLUE=(0,0,255)\n",
    "\n",
    "surface.fill(WHITE)\n",
    "\n",
    "im=pygame.image.load(\"Christmas Card Pic.webp\").convert()\n",
    "\n",
    "resized_image=pygame.transform.scale(im, (500,400))\n",
    "\n",
    "x=25\n",
    "y=50 \n",
    "\n",
    "surface.blit(resized_image, (x,y))\n",
    "\n",
    "pygame.display.flip()\n",
    "\n",
    "font=pygame.font.Font('freesansbold.ttf', 23)\n",
    "\n",
    "text=font.render(\"Braden Micah Heuglin\", True, GREEN, WHITE)\n",
    "\n",
    "textRect=text.get_rect()\n",
    "X=500\n",
    "y=350\n",
    "textRect.center=(X/2, y/2)\n",
    "\n",
    "active=True\n",
    "while active:\n",
    "    \n",
    "    surface.blit(text, textRect)\n",
    "    \n",
    "    for event in pygame.event.get():\n",
    "        if event.type==pygame.QUIT:\n",
    "                     active=False\n",
    "pygame.quit()"
   ]
  }
 ],
 "metadata": {
  "kernelspec": {
   "display_name": "Python 3 (ipykernel)",
   "language": "python",
   "name": "python3"
  },
  "language_info": {
   "codemirror_mode": {
    "name": "ipython",
    "version": 3
   },
   "file_extension": ".py",
   "mimetype": "text/x-python",
   "name": "python",
   "nbconvert_exporter": "python",
   "pygments_lexer": "ipython3",
   "version": "3.9.12"
  }
 },
 "nbformat": 4,
 "nbformat_minor": 5
}
