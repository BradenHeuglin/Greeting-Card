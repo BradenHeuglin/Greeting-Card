{
 "cells": [
  {
   "cell_type": "code",
   "execution_count": 1,
   "id": "703634b9",
   "metadata": {},
   "outputs": [
    {
     "name": "stdout",
     "output_type": "stream",
     "text": [
      "Collecting pygame\n",
      "  Downloading pygame-2.1.2-cp39-cp39-win_amd64.whl (8.4 MB)\n",
      "Installing collected packages: pygame\n",
      "Successfully installed pygame-2.1.2\n"
     ]
    }
   ],
   "source": [
    "!pip install pygame"
   ]
  },
  {
   "cell_type": "code",
   "execution_count": 1,
   "id": "7bfa50a9",
   "metadata": {},
   "outputs": [
    {
     "name": "stdout",
     "output_type": "stream",
     "text": [
      "pygame 2.1.2 (SDL 2.0.18, Python 3.9.12)\n",
      "Hello from the pygame community. https://www.pygame.org/contribute.html\n",
      "Press 'p' to pause, and 'r' to resume, and 'e' to exit the program\n",
      " p\n",
      "Press 'p' to pause, and 'r' to resume, and 'e' to exit the program\n",
      " r\n",
      "Press 'p' to pause, and 'r' to resume, and 'e' to exit the program\n",
      " e\n"
     ]
    }
   ],
   "source": [
    "import pygame\n",
    "from pygame import mixer\n",
    "\n",
    "mixer.init()\n",
    "mixer.music.load(\"christmas music.mp3\")\n",
    "mixer.music.set_volume(0.5)\n",
    "mixer.music.play()\n",
    "\n",
    "surface=pygame.display.set_mode((500,400))\n",
    "\n",
    "pygame.display.set_caption(\"Greeting Card\")\n",
    "\n",
    "WHITE=(255,255,255)\n",
    "BLACK=(0,0,0)\n",
    "RED=(255,0,0)\n",
    "GREEN=(0,255,0)\n",
    "BLUE=(0,0,255)\n",
    "\n",
    "surface.fill(WHITE)\n",
    "\n",
    "pygame.display.flip()\n",
    "\n",
    "im=pygame.image.load(\"Christmas Card Pic.webp\").convert()\n",
    "\n",
    "resized_image=pygame.transform.scale(im, (500,400))\n",
    "\n",
    "x=25\n",
    "y=0 \n",
    "\n",
    "surface.blit(resized_image, (x,y))\n",
    "\n",
    "pygame.display.flip()\n",
    "\n",
    "active=True\n",
    "while active:  \n",
    "    for event in pygame.event.get():\n",
    "        if event.type==pygame.QUIT:\n",
    "                     active=False\n",
    "    \n",
    "    print(\"Press 'p' to pause, and 'r' to resume, and 'e' to exit the program\")\n",
    "    query=input(\" \")\n",
    "    \n",
    "    if query=='p':\n",
    "        mixer.music.pause()\n",
    "    elif query== 'r':\n",
    "        mixer.music.unpause()\n",
    "    elif query== 'e':\n",
    "        mixer.music.stop\n",
    "        break\n",
    "pygame.quit()"
   ]
  },
  {
   "cell_type": "code",
   "execution_count": null,
   "id": "0e72a635",
   "metadata": {},
   "outputs": [],
   "source": []
  }
 ],
 "metadata": {
  "kernelspec": {
   "display_name": "Python 3 (ipykernel)",
   "language": "python",
   "name": "python3"
  },
  "language_info": {
   "codemirror_mode": {
    "name": "ipython",
    "version": 3
   },
   "file_extension": ".py",
   "mimetype": "text/x-python",
   "name": "python",
   "nbconvert_exporter": "python",
   "pygments_lexer": "ipython3",
   "version": "3.9.12"
  }
 },
 "nbformat": 4,
 "nbformat_minor": 5
}
